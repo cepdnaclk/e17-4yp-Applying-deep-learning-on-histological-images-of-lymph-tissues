{
  "nbformat": 4,
  "nbformat_minor": 0,
  "metadata": {
    "colab": {
      "provenance": [],
      "gpuType": "T4",
      "authorship_tag": "ABX9TyPaqwQwlBOnWB0dFYiq8FAz",
      "include_colab_link": true
    },
    "kernelspec": {
      "name": "python3",
      "display_name": "Python 3"
    },
    "language_info": {
      "name": "python"
    },
    "accelerator": "GPU"
  },
  "cells": [
    {
      "cell_type": "markdown",
      "metadata": {
        "id": "view-in-github",
        "colab_type": "text"
      },
      "source": [
        "<a href=\"https://colab.research.google.com/github/Nishan-Charlie/e17-4yp-Applying-deep-learning-on-histological-images-of-lymph-tissues/blob/main/HER2_IHC_to_HE.ipynb\" target=\"_parent\"><img src=\"https://colab.research.google.com/assets/colab-badge.svg\" alt=\"Open In Colab\"/></a>"
      ]
    },
    {
      "cell_type": "code",
      "execution_count": null,
      "metadata": {
        "colab": {
          "base_uri": "https://localhost:8080/"
        },
        "id": "Y2gKEzLwdkCX",
        "outputId": "18bd765b-ee41-4c00-d64d-3d420acb00b2"
      },
      "outputs": [
        {
          "output_type": "stream",
          "name": "stdout",
          "text": [
            "Drive already mounted at /content/drive; to attempt to forcibly remount, call drive.mount(\"/content/drive\", force_remount=True).\n"
          ]
        }
      ],
      "source": [
        "from google.colab import drive\n",
        "drive.mount('/content/drive')"
      ]
    },
    {
      "cell_type": "code",
      "source": [
        "import matplotlib.pyplot as plt\n",
        "import numpy as np\n",
        "import os\n",
        "import PIL\n",
        "import tensorflow as tf\n",
        "from tensorflow import keras\n",
        "from tensorflow.keras import layers\n",
        "from tensorflow.keras.layers import Dense, Flatten, Conv2D, MaxPool2D,Dropout\n",
        "from tensorflow.keras.models import Sequential\n",
        "from tensorflow.keras.optimizers import Adam\n",
        "from tensorflow.keras.metrics import categorical_crossentropy\n",
        "from tensorflow.keras.preprocessing.image import ImageDataGenerator\n",
        "from keras.callbacks import EarlyStopping\n",
        "from sklearn.metrics import confusion_matrix\n",
        "import itertools\n",
        "from sklearn.model_selection import train_test_split\n",
        "import os\n",
        "import shutil\n",
        "import random\n",
        "from tensorflow.keras.metrics import AUC\n",
        "import glob\n",
        "import matplotlib.pyplot as plt\n",
        "import warnings\n",
        "warnings.simplefilter(action='ignore', category = FutureWarning)\n",
        "%matplotlib inline"
      ],
      "metadata": {
        "id": "ZPMzKwDidvhw"
      },
      "execution_count": null,
      "outputs": []
    },
    {
      "cell_type": "code",
      "source": [
        "base_ihc  = \"/content/drive/MyDrive/Colab Notebooks/BCI_dataset/IHC\""
      ],
      "metadata": {
        "id": "Xxg9sgdLdxWv"
      },
      "execution_count": null,
      "outputs": []
    },
    {
      "cell_type": "code",
      "source": [
        "train_path = os.path.join(base_ihc, 'train')\n",
        "# valid_path = os.path.join(base, 'valid')\n",
        "test_path =  os.path.join(base_ihc, 'test')\n",
        "print(len(os.listdir(train_path)))"
      ],
      "metadata": {
        "colab": {
          "base_uri": "https://localhost:8080/"
        },
        "id": "KKE6tnE5fjjg",
        "outputId": "1adeac83-4bca-4b1f-8118-951a452f4705"
      },
      "execution_count": null,
      "outputs": [
        {
          "output_type": "stream",
          "name": "stdout",
          "text": [
            "4\n"
          ]
        }
      ]
    },
    {
      "cell_type": "code",
      "source": [
        "os.chdir(base_ihc)\n",
        "\n",
        "if os.path.isdir('train/0') is False:\n",
        "  os.makedirs('train/0')\n",
        "  for i in range(4):\n",
        "    os.makedirs('train/'+str(i))\n",
        "    os.makedirs('test/'+str(i))\n",
        "\n"
      ],
      "metadata": {
        "id": "ZVHDscIZf2lZ"
      },
      "execution_count": null,
      "outputs": []
    },
    {
      "cell_type": "code",
      "source": [
        "# Use glob to find the image files\n",
        "# train_image_files = glob.glob(os.path.join(base_ihc, \"train/*.png\"))\n",
        "# valid_set = glob.glob(os.path.join(base_ihc, \"test/*/*.png\"))\n",
        "# test_set, valid_set = train_test_split(test_image_files, test_size=0.5, random_state=42)\n",
        "# print(len(valid_set))"
      ],
      "metadata": {
        "id": "HTWbGKAZjL9h"
      },
      "execution_count": null,
      "outputs": []
    },
    {
      "cell_type": "code",
      "source": [
        "# # Iterate through the image files\n",
        "# for image_file in valid_set:\n",
        "#     # Extract the filename without the path\n",
        "#     file_name = os.path.basename(image_file)\n",
        "\n",
        "#     # Split the filename to get the number part (0, 1, 2, 3)\n",
        "#     file_parts = file_name.split(\"_\")\n",
        "#     # print(file_parts)\n",
        "#     if len(file_parts) == 3:\n",
        "#         folder_name = file_parts[2].split(\".\")[0]  # Extract the number part\n",
        "#         dest_folder = os.path.join(base_ihc, \"test\", folder_name)\n",
        "\n",
        "#         # Create the destination folder if it doesn't exist\n",
        "#         if not os.path.exists(dest_folder):\n",
        "#             os.makedirs(dest_folder)\n",
        "\n",
        "#         # Move the image to the corresponding folder\n",
        "#         shutil.move(image_file, os.path.join(dest_folder, file_name))"
      ],
      "metadata": {
        "id": "ccq2z3dyrD73"
      },
      "execution_count": null,
      "outputs": []
    },
    {
      "cell_type": "code",
      "source": [
        "train_path = os.path.join(base_ihc, \"train\")\n",
        "test_path = os.path.join(base_ihc, \"test\")\n",
        "# valid_path = os.path.join(base_ihc, \"valid\")\n",
        "classes = os.listdir(train_path)\n",
        "print(classes)\n"
      ],
      "metadata": {
        "colab": {
          "base_uri": "https://localhost:8080/"
        },
        "id": "cUUixPLQunQk",
        "outputId": "deee0592-5505-4d1b-968e-ce74f7c1e46f"
      },
      "execution_count": null,
      "outputs": [
        {
          "output_type": "stream",
          "name": "stdout",
          "text": [
            "['0', '3+', '2+', '1+']\n"
          ]
        }
      ]
    },
    {
      "cell_type": "code",
      "source": [
        "dataGenerator = ImageDataGenerator(preprocessing_function=tf.keras.applications.vgg16.preprocess_input, validation_split=0.8,\n",
        "    rotation_range=15,      # Randomly rotate images up to 40 degrees\n",
        "    width_shift_range=0.2,  # Randomly shift images horizontally by up to 20% of the width\n",
        "    height_shift_range=0.2, # Randomly shift images vertically by up to 20% of the height\n",
        "    shear_range=0.2,        # Apply shear transformations\n",
        "    horizontal_flip=True,   # Randomly flip images horizontally\n",
        "    )"
      ],
      "metadata": {
        "id": "t_ZALlHOyWT5"
      },
      "execution_count": null,
      "outputs": []
    },
    {
      "cell_type": "code",
      "source": [
        "train_batches = ImageDataGenerator(preprocessing_function=tf.keras.applications.vgg16.preprocess_input, rotation_range=15,\n",
        "    width_shift_range=0.2,  # Randomly shift images horizontally by up to 20% of the width\n",
        "    height_shift_range=0.2, # Randomly shift images vertically by up to 20% of the height\n",
        "    shear_range=0.2,        # Apply shear transformations\n",
        "    horizontal_flip=True).flow_from_directory(directory=train_path, target_size=(224, 224), classes=classes, batch_size=32)\n",
        "valid_batches = dataGenerator.flow_from_directory(directory= test_path, target_size = (224,224),classes = classes, batch_size = 16,class_mode='categorical',subset='validation')\n",
        "test_batches = dataGenerator.flow_from_directory(directory = test_path, target_size=(224,224),classes = classes, batch_size = 16, shuffle = False,class_mode='categorical',subset='training')"
      ],
      "metadata": {
        "colab": {
          "base_uri": "https://localhost:8080/"
        },
        "id": "zZY4lNyFvCV6",
        "outputId": "4343ffd9-6d58-4ded-ca75-6f55c5e09a91"
      },
      "execution_count": null,
      "outputs": [
        {
          "output_type": "stream",
          "name": "stdout",
          "text": [
            "Found 3896 images belonging to 4 classes.\n",
            "Found 780 images belonging to 4 classes.\n",
            "Found 197 images belonging to 4 classes.\n"
          ]
        }
      ]
    },
    {
      "cell_type": "code",
      "source": [
        "def plotImages(images_arr):\n",
        "  fig,axes = plt.subplots(1,10, figsize = (20,20))\n",
        "  axes = axes.flatten()\n",
        "  for img, ax in zip(images_arr, axes):\n",
        "    ax.imshow(img)\n",
        "    ax.axis('off')\n",
        "  plt.tight_layout()\n",
        "  plt.show()"
      ],
      "metadata": {
        "id": "EWTpmbBKvE3l"
      },
      "execution_count": null,
      "outputs": []
    },
    {
      "cell_type": "code",
      "source": [
        "imgs, labels = next(test_batches)\n",
        "plotImages(imgs)"
      ],
      "metadata": {
        "colab": {
          "base_uri": "https://localhost:8080/",
          "height": 309
        },
        "id": "vSpIluwtvimc",
        "outputId": "baf36b10-1b96-4f52-b5d2-f8fe371bdee0"
      },
      "execution_count": null,
      "outputs": [
        {
          "output_type": "stream",
          "name": "stderr",
          "text": [
            "WARNING:matplotlib.image:Clipping input data to the valid range for imshow with RGB data ([0..1] for floats or [0..255] for integers).\n",
            "WARNING:matplotlib.image:Clipping input data to the valid range for imshow with RGB data ([0..1] for floats or [0..255] for integers).\n",
            "WARNING:matplotlib.image:Clipping input data to the valid range for imshow with RGB data ([0..1] for floats or [0..255] for integers).\n",
            "WARNING:matplotlib.image:Clipping input data to the valid range for imshow with RGB data ([0..1] for floats or [0..255] for integers).\n",
            "WARNING:matplotlib.image:Clipping input data to the valid range for imshow with RGB data ([0..1] for floats or [0..255] for integers).\n",
            "WARNING:matplotlib.image:Clipping input data to the valid range for imshow with RGB data ([0..1] for floats or [0..255] for integers).\n",
            "WARNING:matplotlib.image:Clipping input data to the valid range for imshow with RGB data ([0..1] for floats or [0..255] for integers).\n",
            "WARNING:matplotlib.image:Clipping input data to the valid range for imshow with RGB data ([0..1] for floats or [0..255] for integers).\n",
            "WARNING:matplotlib.image:Clipping input data to the valid range for imshow with RGB data ([0..1] for floats or [0..255] for integers).\n",
            "WARNING:matplotlib.image:Clipping input data to the valid range for imshow with RGB data ([0..1] for floats or [0..255] for integers).\n"
          ]
        },
        {
          "output_type": "display_data",
          "data": {
            "text/plain": [
              "<Figure size 2000x2000 with 10 Axes>"
            ],
            "image/png": "[encoded data removed]"
          },
          "metadata": {}
        }
      ]
    },
    {
      "cell_type": "code",
      "source": [
        "def plot_confusion_matrix(cm, classes, normalize= False, title='Confusin Matrix', cmap = plt.cm.Blues):\n",
        "  plt.imshow(cm, interpolation = 'nearest', cmap=cmap)\n",
        "  plt.title(title)\n",
        "  plt.colorbar()\n",
        "  tick_marks = np.arange(len(classes))\n",
        "  plt.xticks(tick_marks, classes, rotation = 45)\n",
        "  plt.yticks(tick_marks,classes)\n",
        "\n",
        "  if normalize:\n",
        "    cm = cm.astype('flot')/ cm.sum(axis=1)[:, np.newaxis]\n",
        "    print(\"Normalized confusion matrix\")\n",
        "  else:\n",
        "    print(\"Confusion matrix, without normalization\")\n",
        "\n",
        "  print(cm)\n",
        "  thresh = cm.max()/2\n",
        "  for i,j in itertools.product(range(cm.shape[0]), range(cm.shape[1])):\n",
        "    plt.text(j, i,cm[i,j],\n",
        "             horizontalalignment = \"center\",\n",
        "             color=\"white\" if cm[i,j]> thresh else \"black\")\n",
        "    plt.tight_layout()\n",
        "    plt.ylabel('True label')\n",
        "    plt.xlabel('Predicted label')"
      ],
      "metadata": {
        "id": "6oI1GEFevl7I"
      },
      "execution_count": null,
      "outputs": []
    },
    {
      "cell_type": "code",
      "source": [
        "vgg16_model = tf.keras.applications.vgg16.VGG16()"
      ],
      "metadata": {
        "id": "D6YOj0S6vqET"
      },
      "execution_count": null,
      "outputs": []
    },
    {
      "cell_type": "code",
      "source": [
        "model = Sequential()\n",
        "for layer in vgg16_model.layers[:-1]:\n",
        "  model.add(layer)\n",
        "\n",
        "for layer in model.layers[:-3]:\n",
        "  layer.trainable = False\n"
      ],
      "metadata": {
        "id": "WAeIRsyVv2rh"
      },
      "execution_count": null,
      "outputs": []
    },
    {
      "cell_type": "code",
      "source": [
        "model.summary()"
      ],
      "metadata": {
        "colab": {
          "base_uri": "https://localhost:8080/"
        },
        "id": "HPXhPL0av65p",
        "outputId": "d75b80fa-5b20-47e1-d0e0-37337e4b6341"
      },
      "execution_count": null,
      "outputs": [
        {
          "output_type": "stream",
          "name": "stdout",
          "text": [
            "Model: \"sequential_1\"\n",
            "_________________________________________________________________\n",
            " Layer (type)                Output Shape              Param #   \n",
            "=================================================================\n",
            " block1_conv1 (Conv2D)       (None, 224, 224, 64)      1792      \n",
            "                                                                 \n",
            " block1_conv2 (Conv2D)       (None, 224, 224, 64)      36928     \n",
            "                                                                 \n",
            " block1_pool (MaxPooling2D)  (None, 112, 112, 64)      0         \n",
            "                                                                 \n",
            " block2_conv1 (Conv2D)       (None, 112, 112, 128)     73856     \n",
            "                                                                 \n",
            " block2_conv2 (Conv2D)       (None, 112, 112, 128)     147584    \n",
            "                                                                 \n",
            " block2_pool (MaxPooling2D)  (None, 56, 56, 128)       0         \n",
            "                                                                 \n",
            " block3_conv1 (Conv2D)       (None, 56, 56, 256)       295168    \n",
            "                                                                 \n",
            " block3_conv2 (Conv2D)       (None, 56, 56, 256)       590080    \n",
            "                                                                 \n",
            " block3_conv3 (Conv2D)       (None, 56, 56, 256)       590080    \n",
            "                                                                 \n",
            " block3_pool (MaxPooling2D)  (None, 28, 28, 256)       0         \n",
            "                                                                 \n",
            " block4_conv1 (Conv2D)       (None, 28, 28, 512)       1180160   \n",
            "                                                                 \n",
            " block4_conv2 (Conv2D)       (None, 28, 28, 512)       2359808   \n",
            "                                                                 \n",
            " block4_conv3 (Conv2D)       (None, 28, 28, 512)       2359808   \n",
            "                                                                 \n",
            " block4_pool (MaxPooling2D)  (None, 14, 14, 512)       0         \n",
            "                                                                 \n",
            " block5_conv1 (Conv2D)       (None, 14, 14, 512)       2359808   \n",
            "                                                                 \n",
            " block5_conv2 (Conv2D)       (None, 14, 14, 512)       2359808   \n",
            "                                                                 \n",
            " block5_conv3 (Conv2D)       (None, 14, 14, 512)       2359808   \n",
            "                                                                 \n",
            " block5_pool (MaxPooling2D)  (None, 7, 7, 512)         0         \n",
            "                                                                 \n",
            " flatten (Flatten)           (None, 25088)             0         \n",
            "                                                                 \n",
            " fc1 (Dense)                 (None, 4096)              102764544 \n",
            "                                                                 \n",
            " fc2 (Dense)                 (None, 4096)              16781312  \n",
            "                                                                 \n",
            "=================================================================\n",
            "Total params: 134260544 (512.16 MB)\n",
            "Trainable params: 119545856 (456.03 MB)\n",
            "Non-trainable params: 14714688 (56.13 MB)\n",
            "_________________________________________________________________\n"
          ]
        }
      ]
    },
    {
      "cell_type": "code",
      "source": [
        "# Add a dropout layer with a dropout rate of 0.5\n",
        "model.add(Dropout(0.5))\n",
        "model.add(Dense(units=256, activation = 'relu'))\n",
        "\n",
        "model.add(Dense(units=4, activation = 'softmax'))"
      ],
      "metadata": {
        "id": "bu0NbDpGv8YB"
      },
      "execution_count": null,
      "outputs": []
    },
    {
      "cell_type": "code",
      "source": [
        "model.summary()"
      ],
      "metadata": {
        "colab": {
          "base_uri": "https://localhost:8080/"
        },
        "id": "8I7uvk2xv-s-",
        "outputId": "5f6d0035-01b0-48c8-fda7-c1a0ed6e03c2"
      },
      "execution_count": null,
      "outputs": [
        {
          "output_type": "stream",
          "name": "stdout",
          "text": [
            "Model: \"sequential_1\"\n",
            "_________________________________________________________________\n",
            " Layer (type)                Output Shape              Param #   \n",
            "=================================================================\n",
            " block1_conv1 (Conv2D)       (None, 224, 224, 64)      1792      \n",
            "                                                                 \n",
            " block1_conv2 (Conv2D)       (None, 224, 224, 64)      36928     \n",
            "                                                                 \n",
            " block1_pool (MaxPooling2D)  (None, 112, 112, 64)      0         \n",
            "                                                                 \n",
            " block2_conv1 (Conv2D)       (None, 112, 112, 128)     73856     \n",
            "                                                                 \n",
            " block2_conv2 (Conv2D)       (None, 112, 112, 128)     147584    \n",
            "                                                                 \n",
            " block2_pool (MaxPooling2D)  (None, 56, 56, 128)       0         \n",
            "                                                                 \n",
            " block3_conv1 (Conv2D)       (None, 56, 56, 256)       295168    \n",
            "                                                                 \n",
            " block3_conv2 (Conv2D)       (None, 56, 56, 256)       590080    \n",
            "                                                                 \n",
            " block3_conv3 (Conv2D)       (None, 56, 56, 256)       590080    \n",
            "                                                                 \n",
            " block3_pool (MaxPooling2D)  (None, 28, 28, 256)       0         \n",
            "                                                                 \n",
            " block4_conv1 (Conv2D)       (None, 28, 28, 512)       1180160   \n",
            "                                                                 \n",
            " block4_conv2 (Conv2D)       (None, 28, 28, 512)       2359808   \n",
            "                                                                 \n",
            " block4_conv3 (Conv2D)       (None, 28, 28, 512)       2359808   \n",
            "                                                                 \n",
            " block4_pool (MaxPooling2D)  (None, 14, 14, 512)       0         \n",
            "                                                                 \n",
            " block5_conv1 (Conv2D)       (None, 14, 14, 512)       2359808   \n",
            "                                                                 \n",
            " block5_conv2 (Conv2D)       (None, 14, 14, 512)       2359808   \n",
            "                                                                 \n",
            " block5_conv3 (Conv2D)       (None, 14, 14, 512)       2359808   \n",
            "                                                                 \n",
            " block5_pool (MaxPooling2D)  (None, 7, 7, 512)         0         \n",
            "                                                                 \n",
            " flatten (Flatten)           (None, 25088)             0         \n",
            "                                                                 \n",
            " fc1 (Dense)                 (None, 4096)              102764544 \n",
            "                                                                 \n",
            " fc2 (Dense)                 (None, 4096)              16781312  \n",
            "                                                                 \n",
            " dropout_1 (Dropout)         (None, 4096)              0         \n",
            "                                                                 \n",
            " dense_2 (Dense)             (None, 256)               1048832   \n",
            "                                                                 \n",
            " dense_3 (Dense)             (None, 4)                 1028      \n",
            "                                                                 \n",
            "=================================================================\n",
            "Total params: 135310404 (516.17 MB)\n",
            "Trainable params: 120595716 (460.04 MB)\n",
            "Non-trainable params: 14714688 (56.13 MB)\n",
            "_________________________________________________________________\n"
          ]
        }
      ]
    },
    {
      "cell_type": "code",
      "source": [
        "model.compile(optimizer = Adam(learning_rate = 0.0001), loss='categorical_crossentropy', metrics=['accuracy'])"
      ],
      "metadata": {
        "id": "5kbwa2OTwAUk"
      },
      "execution_count": null,
      "outputs": []
    },
    {
      "cell_type": "code",
      "source": [
        "batch_data = train_batches[0][0]  # Access the first batch of data\n",
        "batch_shape = batch_data.shape\n",
        "print(\"Batch data shape:\", batch_shape)"
      ],
      "metadata": {
        "colab": {
          "base_uri": "https://localhost:8080/"
        },
        "id": "-yhXuOx1wCgK",
        "outputId": "ebeb8c37-6ccf-4df8-a47e-b5ada45ecf48"
      },
      "execution_count": null,
      "outputs": [
        {
          "output_type": "stream",
          "name": "stdout",
          "text": [
            "Batch data shape: (32, 224, 224, 3)\n"
          ]
        }
      ]
    },
    {
      "cell_type": "code",
      "source": [
        "train_batches.class_indices"
      ],
      "metadata": {
        "colab": {
          "base_uri": "https://localhost:8080/"
        },
        "id": "Fv52M2rzwFQh",
        "outputId": "b4a09793-00d9-4c7f-a1ad-18ed84a29448"
      },
      "execution_count": null,
      "outputs": [
        {
          "output_type": "execute_result",
          "data": {
            "text/plain": [
              "{'0': 0, '3+': 1, '2+': 2, '1+': 3}"
            ]
          },
          "metadata": {},
          "execution_count": 43
        }
      ]
    },
    {
      "cell_type": "code",
      "source": [
        "history = model.fit(x= train_batches, validation_data = valid_batches, epochs = 25)"
      ],
      "metadata": {
        "colab": {
          "base_uri": "https://localhost:8080/"
        },
        "id": "5U0inXrCwGlt",
        "outputId": "ad3f2cce-791a-4293-8d85-7403ae864698"
      },
      "execution_count": null,
      "outputs": [
        {
          "output_type": "stream",
          "name": "stdout",
          "text": [
            "Epoch 1/25\n",
            "122/122 [==============================] - 1993s 16s/step - loss: 1.1636 - accuracy: 0.4730 - val_loss: 1.0164 - val_accuracy: 0.5244\n",
            "Epoch 2/25\n",
            "122/122 [==============================] - 103s 848ms/step - loss: 1.0119 - accuracy: 0.5403 - val_loss: 0.9413 - val_accuracy: 0.5744\n",
            "Epoch 3/25\n",
            "122/122 [==============================] - 102s 840ms/step - loss: 0.9374 - accuracy: 0.5637 - val_loss: 0.9218 - val_accuracy: 0.5526\n",
            "Epoch 4/25\n",
            "122/122 [==============================] - 102s 839ms/step - loss: 0.8792 - accuracy: 0.6024 - val_loss: 0.7871 - val_accuracy: 0.6667\n",
            "Epoch 5/25\n",
            "122/122 [==============================] - 102s 839ms/step - loss: 0.8284 - accuracy: 0.6204 - val_loss: 0.8300 - val_accuracy: 0.6551\n",
            "Epoch 6/25\n",
            "122/122 [==============================] - 106s 870ms/step - loss: 0.7909 - accuracy: 0.6496 - val_loss: 0.8169 - val_accuracy: 0.6538\n",
            "Epoch 7/25\n",
            "122/122 [==============================] - 103s 844ms/step - loss: 0.7493 - accuracy: 0.6573 - val_loss: 0.7771 - val_accuracy: 0.6936\n",
            "Epoch 8/25\n",
            "122/122 [==============================] - 101s 825ms/step - loss: 0.7129 - accuracy: 0.6751 - val_loss: 0.7281 - val_accuracy: 0.6949\n",
            "Epoch 9/25\n",
            "122/122 [==============================] - 103s 840ms/step - loss: 0.6790 - accuracy: 0.6938 - val_loss: 0.6665 - val_accuracy: 0.7397\n",
            "Epoch 10/25\n",
            "122/122 [==============================] - 103s 846ms/step - loss: 0.6346 - accuracy: 0.7228 - val_loss: 0.6425 - val_accuracy: 0.7231\n",
            "Epoch 11/25\n",
            "122/122 [==============================] - 104s 849ms/step - loss: 0.6241 - accuracy: 0.7295 - val_loss: 0.6698 - val_accuracy: 0.7103\n"
          ]
        }
      ]
    },
    {
      "cell_type": "code",
      "source": [
        "model.save(base_ihc+\"NEW_HER2Sample_VGG16\")"
      ],
      "metadata": {
        "id": "xluoSP-LwIWa"
      },
      "execution_count": null,
      "outputs": []
    },
    {
      "cell_type": "code",
      "source": [
        "\n",
        "# Extract training and validation accuracy\n",
        "training_accuracy = history.history['accuracy']\n",
        "validation_accuracy = history.history['val_accuracy']\n",
        "\n",
        "# Create a range of epochs\n",
        "epochs = range(1, 26)\n",
        "\n",
        "# Plot training and validation accuracy\n",
        "plt.figure(figsize=(10, 6))\n",
        "plt.plot(epochs, training_accuracy, 'bo-', label='Training Accuracy')\n",
        "plt.plot(epochs, validation_accuracy, 'ro-', label='Validation Accuracy')\n",
        "plt.title('Training and Validation Accuracy of VGG16')\n",
        "plt.xlabel('Epochs')\n",
        "plt.ylabel('Accuracy')\n",
        "plt.legend()\n",
        "plt.grid(True)\n",
        "plt.show()"
      ],
      "metadata": {
        "id": "svWNlimHweon"
      },
      "execution_count": null,
      "outputs": []
    },
    {
      "cell_type": "code",
      "source": [
        "\n",
        "test_loss, test_accuracy, AUC = model.evaluate(test_batches)\n",
        "print(\"Testing Loss:\", test_loss)\n",
        "print(\"AUC\", AUC)\n",
        "print(\"Testing Accuracy:\", test_accuracy)"
      ],
      "metadata": {
        "id": "gtTzyyKRzvOG"
      },
      "execution_count": null,
      "outputs": []
    },
    {
      "cell_type": "code",
      "source": [
        "\n",
        "predictions =model.predict(x= test_batches, verbose=2)\n",
        "cm = confusion_matrix(y_true= test_batches.classes, y_pred = np.argmax(predictions, axis=-1))\n",
        "plot_confusion_matrix(cm=cm, classes=classes, title = 'Confusion Matrix of Her2 Sample VGG16')"
      ],
      "metadata": {
        "id": "VAgKD_yszxHo"
      },
      "execution_count": null,
      "outputs": []
    },
    {
      "cell_type": "code",
      "source": [],
      "metadata": {
        "id": "AsJ4S-jLzzcE"
      },
      "execution_count": null,
      "outputs": []
    }
  ]
}